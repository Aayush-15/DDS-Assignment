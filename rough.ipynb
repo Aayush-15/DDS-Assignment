{
 "cells": [
  {
   "cell_type": "markdown",
   "metadata": {},
   "source": [
    "# Data Faker"
   ]
  },
  {
   "cell_type": "code",
   "execution_count": 1,
   "metadata": {},
   "outputs": [],
   "source": [
    "import random\n",
    "from datetime import datetime, timedelta\n",
    "import numpy as np\n",
    "import pandas as pd\n",
    "\n",
    "from faker import Faker"
   ]
  },
  {
   "cell_type": "code",
   "execution_count": 2,
   "metadata": {},
   "outputs": [],
   "source": [
    "# Initialize Faker and other settings\n",
    "fake = Faker()\n",
    "\n",
    "num_sensors = 10  # Number of sensors\n",
    "start_time = datetime.now() - timedelta(days=1)  # Start from 24 hours ago\n",
    "time_interval = timedelta(minutes=1)  # Time between sensor readings\n",
    "\n",
    "\n",
    "# Define sensor types and their data ranges\n",
    "sensor_types = {\n",
    "    \"temperature\": {\"min\": 15, \"max\": 35, \"unit\": \"Celsius\"},\n",
    "    \"humidity\": {\"min\": 30, \"max\": 70, \"unit\": \"%\"},\n",
    "    \"air_quality\": {\"min\": 50, \"max\": 200, \"unit\": \"AQI\"},\n",
    "}\n",
    "\n",
    "# Create a list of sensors with random sensor types\n",
    "sensors = [\n",
    "    {\n",
    "        \"sensor_id\": f\"sensor_{i+1:03}\",\n",
    "        \"sensor_type\": random.choice(list(sensor_types.keys())),\n",
    "    }\n",
    "    for i in range(num_sensors)\n",
    "]"
   ]
  },
  {
   "cell_type": "code",
   "execution_count": 4,
   "metadata": {},
   "outputs": [
    {
     "name": "stdout",
     "output_type": "stream",
     "text": [
      "Generated 140 rows of sensor data and saved to 'synthetic_iot_sensor_data.csv'.\n"
     ]
    }
   ],
   "source": [
    "# Generate synthetic data\n",
    "def generate_sensor_data(num_readings):\n",
    "    data = []\n",
    "    for sensor in sensors:\n",
    "        current_time = start_time\n",
    "        for _ in range(num_readings):\n",
    "            reading = np.random.uniform(\n",
    "                sensor_types[sensor[\"sensor_type\"]][\"min\"],\n",
    "                sensor_types[sensor[\"sensor_type\"]][\"max\"],\n",
    "            )\n",
    "            data.append(\n",
    "                {\n",
    "                    \"sensor_id\": sensor[\"sensor_id\"],\n",
    "                    \"timestamp\": current_time,\n",
    "                    \"sensor_type\": sensor[\"sensor_type\"],\n",
    "                    \"sensor_reading\": round(reading, 2),\n",
    "                    \"unit\": sensor_types[sensor[\"sensor_type\"]][\"unit\"],\n",
    "                }\n",
    "            )\n",
    "            current_time += time_interval\n",
    "    return data\n",
    "\n",
    "\n",
    "# Generate data for 24 hours (1440 minutes, 1 reading per minute per sensor)\n",
    "num_readings = 14\n",
    "sensor_data = generate_sensor_data(num_readings)\n",
    "\n",
    "# Convert to pandas DataFrame and save as CSV\n",
    "df = pd.DataFrame(sensor_data)\n",
    "df.to_csv(\"synthetic_iot_sensor_data.csv\", index=False)\n",
    "\n",
    "print(\n",
    "    f\"Generated {len(df)} rows of sensor data and saved to 'synthetic_iot_sensor_data.csv'.\"\n",
    ")"
   ]
  },
  {
   "cell_type": "code",
   "execution_count": 5,
   "metadata": {},
   "outputs": [
    {
     "data": {
      "text/html": [
       "<div>\n",
       "<style scoped>\n",
       "    .dataframe tbody tr th:only-of-type {\n",
       "        vertical-align: middle;\n",
       "    }\n",
       "\n",
       "    .dataframe tbody tr th {\n",
       "        vertical-align: top;\n",
       "    }\n",
       "\n",
       "    .dataframe thead th {\n",
       "        text-align: right;\n",
       "    }\n",
       "</style>\n",
       "<table border=\"1\" class=\"dataframe\">\n",
       "  <thead>\n",
       "    <tr style=\"text-align: right;\">\n",
       "      <th></th>\n",
       "      <th>sensor_id</th>\n",
       "      <th>timestamp</th>\n",
       "      <th>sensor_type</th>\n",
       "      <th>sensor_reading</th>\n",
       "      <th>unit</th>\n",
       "    </tr>\n",
       "  </thead>\n",
       "  <tbody>\n",
       "    <tr>\n",
       "      <th>0</th>\n",
       "      <td>sensor_001</td>\n",
       "      <td>2024-11-23 22:15:21.019651</td>\n",
       "      <td>temperature</td>\n",
       "      <td>18.93</td>\n",
       "      <td>Celsius</td>\n",
       "    </tr>\n",
       "    <tr>\n",
       "      <th>1</th>\n",
       "      <td>sensor_001</td>\n",
       "      <td>2024-11-23 22:16:21.019651</td>\n",
       "      <td>temperature</td>\n",
       "      <td>28.06</td>\n",
       "      <td>Celsius</td>\n",
       "    </tr>\n",
       "    <tr>\n",
       "      <th>2</th>\n",
       "      <td>sensor_001</td>\n",
       "      <td>2024-11-23 22:17:21.019651</td>\n",
       "      <td>temperature</td>\n",
       "      <td>28.84</td>\n",
       "      <td>Celsius</td>\n",
       "    </tr>\n",
       "    <tr>\n",
       "      <th>3</th>\n",
       "      <td>sensor_001</td>\n",
       "      <td>2024-11-23 22:18:21.019651</td>\n",
       "      <td>temperature</td>\n",
       "      <td>31.73</td>\n",
       "      <td>Celsius</td>\n",
       "    </tr>\n",
       "    <tr>\n",
       "      <th>4</th>\n",
       "      <td>sensor_001</td>\n",
       "      <td>2024-11-23 22:19:21.019651</td>\n",
       "      <td>temperature</td>\n",
       "      <td>30.01</td>\n",
       "      <td>Celsius</td>\n",
       "    </tr>\n",
       "  </tbody>\n",
       "</table>\n",
       "</div>"
      ],
      "text/plain": [
       "    sensor_id                  timestamp  sensor_type  sensor_reading     unit\n",
       "0  sensor_001 2024-11-23 22:15:21.019651  temperature           18.93  Celsius\n",
       "1  sensor_001 2024-11-23 22:16:21.019651  temperature           28.06  Celsius\n",
       "2  sensor_001 2024-11-23 22:17:21.019651  temperature           28.84  Celsius\n",
       "3  sensor_001 2024-11-23 22:18:21.019651  temperature           31.73  Celsius\n",
       "4  sensor_001 2024-11-23 22:19:21.019651  temperature           30.01  Celsius"
      ]
     },
     "execution_count": 5,
     "metadata": {},
     "output_type": "execute_result"
    }
   ],
   "source": [
    "df.head()"
   ]
  },
  {
   "cell_type": "markdown",
   "metadata": {},
   "source": [
    "# Kafka Producer"
   ]
  },
  {
   "cell_type": "code",
   "execution_count": 6,
   "metadata": {},
   "outputs": [],
   "source": [
    "import time\n",
    "import json\n",
    "import pandas as pd\n",
    "from kafka import KafkaProducer"
   ]
  },
  {
   "cell_type": "code",
   "execution_count": 7,
   "metadata": {},
   "outputs": [
    {
     "data": {
      "text/html": [
       "<div>\n",
       "<style scoped>\n",
       "    .dataframe tbody tr th:only-of-type {\n",
       "        vertical-align: middle;\n",
       "    }\n",
       "\n",
       "    .dataframe tbody tr th {\n",
       "        vertical-align: top;\n",
       "    }\n",
       "\n",
       "    .dataframe thead th {\n",
       "        text-align: right;\n",
       "    }\n",
       "</style>\n",
       "<table border=\"1\" class=\"dataframe\">\n",
       "  <thead>\n",
       "    <tr style=\"text-align: right;\">\n",
       "      <th></th>\n",
       "      <th>sensor_id</th>\n",
       "      <th>timestamp</th>\n",
       "      <th>sensor_type</th>\n",
       "      <th>sensor_reading</th>\n",
       "      <th>unit</th>\n",
       "    </tr>\n",
       "  </thead>\n",
       "  <tbody>\n",
       "    <tr>\n",
       "      <th>0</th>\n",
       "      <td>sensor_001</td>\n",
       "      <td>2024-11-23 22:15:21.019651</td>\n",
       "      <td>temperature</td>\n",
       "      <td>18.93</td>\n",
       "      <td>Celsius</td>\n",
       "    </tr>\n",
       "    <tr>\n",
       "      <th>1</th>\n",
       "      <td>sensor_001</td>\n",
       "      <td>2024-11-23 22:16:21.019651</td>\n",
       "      <td>temperature</td>\n",
       "      <td>28.06</td>\n",
       "      <td>Celsius</td>\n",
       "    </tr>\n",
       "    <tr>\n",
       "      <th>2</th>\n",
       "      <td>sensor_001</td>\n",
       "      <td>2024-11-23 22:17:21.019651</td>\n",
       "      <td>temperature</td>\n",
       "      <td>28.84</td>\n",
       "      <td>Celsius</td>\n",
       "    </tr>\n",
       "    <tr>\n",
       "      <th>3</th>\n",
       "      <td>sensor_001</td>\n",
       "      <td>2024-11-23 22:18:21.019651</td>\n",
       "      <td>temperature</td>\n",
       "      <td>31.73</td>\n",
       "      <td>Celsius</td>\n",
       "    </tr>\n",
       "    <tr>\n",
       "      <th>4</th>\n",
       "      <td>sensor_001</td>\n",
       "      <td>2024-11-23 22:19:21.019651</td>\n",
       "      <td>temperature</td>\n",
       "      <td>30.01</td>\n",
       "      <td>Celsius</td>\n",
       "    </tr>\n",
       "  </tbody>\n",
       "</table>\n",
       "</div>"
      ],
      "text/plain": [
       "    sensor_id                   timestamp  sensor_type  sensor_reading  \\\n",
       "0  sensor_001  2024-11-23 22:15:21.019651  temperature           18.93   \n",
       "1  sensor_001  2024-11-23 22:16:21.019651  temperature           28.06   \n",
       "2  sensor_001  2024-11-23 22:17:21.019651  temperature           28.84   \n",
       "3  sensor_001  2024-11-23 22:18:21.019651  temperature           31.73   \n",
       "4  sensor_001  2024-11-23 22:19:21.019651  temperature           30.01   \n",
       "\n",
       "      unit  \n",
       "0  Celsius  \n",
       "1  Celsius  \n",
       "2  Celsius  \n",
       "3  Celsius  \n",
       "4  Celsius  "
      ]
     },
     "execution_count": 7,
     "metadata": {},
     "output_type": "execute_result"
    }
   ],
   "source": [
    "# Load the synthetic sensor data\n",
    "df = pd.read_csv('synthetic_iot_sensor_data.csv')\n",
    "df.head()"
   ]
  },
  {
   "cell_type": "code",
   "execution_count": 8,
   "metadata": {},
   "outputs": [],
   "source": [
    "# Create a Kafka producer\n",
    "producer = KafkaProducer(\n",
    "    bootstrap_servers=[\"localhost:9092\"],\n",
    "    value_serializer=lambda x: json.dumps(x).encode(\"utf-8\"),\n",
    ")"
   ]
  },
  {
   "cell_type": "code",
   "execution_count": 9,
   "metadata": {},
   "outputs": [],
   "source": [
    "from tqdm import tqdm"
   ]
  },
  {
   "cell_type": "code",
   "execution_count": 10,
   "metadata": {},
   "outputs": [
    {
     "name": "stderr",
     "output_type": "stream",
     "text": [
      "100%|██████████| 140/140 [00:14<00:00,  9.83it/s]\n"
     ]
    }
   ],
   "source": [
    "# Stream the data row by row to Kafka\n",
    "for index, row in tqdm(df.iterrows(), total=len(df)):\n",
    "    data = {\n",
    "        'sensor_id': row['sensor_id'],\n",
    "        'timestamp': row['timestamp'],\n",
    "        'sensor_type': row['sensor_type'],\n",
    "        'sensor_reading': row['sensor_reading'],\n",
    "        'unit': row['unit'],\n",
    "    }\n",
    "    producer.send('iot-sensor-data', value=data)\n",
    "    time.sleep(0.1)  # Simulate streaming with a small delay\n",
    "\n",
    "producer.flush()"
   ]
  },
  {
   "cell_type": "markdown",
   "metadata": {},
   "source": [
    "# Cassandra Client Setup"
   ]
  },
  {
   "cell_type": "code",
   "execution_count": 2,
   "metadata": {},
   "outputs": [],
   "source": [
    "from kafka import KafkaConsumer\n",
    "from cassandra.cluster import Cluster\n",
    "import json"
   ]
  },
  {
   "cell_type": "code",
   "execution_count": 3,
   "metadata": {},
   "outputs": [],
   "source": [
    "# Create a Cassandra connection\n",
    "cluster = Cluster([\"127.0.0.1\"])\n",
    "session = cluster.connect(\"iot_data\")"
   ]
  },
  {
   "cell_type": "code",
   "execution_count": 4,
   "metadata": {},
   "outputs": [],
   "source": [
    "# Create Kafka consumer to listen to \"iot-sensor-data\" topic\n",
    "consumer = KafkaConsumer(\n",
    "    \"iot-sensor-data\",\n",
    "    bootstrap_servers=[\"localhost:9092\"],\n",
    "    auto_offset_reset=\"earliest\",\n",
    "    enable_auto_commit=True,\n",
    "    value_deserializer=lambda x: json.loads(x.decode(\"utf-8\")),\n",
    ")"
   ]
  },
  {
   "cell_type": "code",
   "execution_count": 4,
   "metadata": {},
   "outputs": [],
   "source": [
    "for message in consumer:\n",
    "    break"
   ]
  },
  {
   "cell_type": "code",
   "execution_count": null,
   "metadata": {},
   "outputs": [],
   "source": [
    "consumer."
   ]
  },
  {
   "cell_type": "code",
   "execution_count": null,
   "metadata": {},
   "outputs": [
    {
     "name": "stderr",
     "output_type": "stream",
     "text": [
      "0it [00:00, ?it/s]"
     ]
    }
   ],
   "source": [
    "# Insert data from Kafka into Cassandra\n",
    "for message in tqdm(consumer):\n",
    "    data = message.value\n",
    "    query = f\"\"\"\n",
    "            INSERT INTO iot_data.sensor_readings \n",
    "            (sensor_id, timestamp, sensor_type, sensor_reading, unit) \n",
    "            VALUES ('{str(data['sensor_id'])}', '{data['timestamp']}', '{data['sensor_type']}', {data['sensor_reading']}, '{str(data['unit'])}')\n",
    "            \"\"\"\n",
    "    session.execute(query)\n",
    "\n",
    "print(\"Data inserted into Cassandra from Kafka\")"
   ]
  },
  {
   "cell_type": "code",
   "execution_count": 1,
   "metadata": {},
   "outputs": [
    {
     "ename": "NoHostAvailable",
     "evalue": "(\"Unable to connect to any servers using keyspace 'iot_data'\", ['127.0.0.1'])",
     "output_type": "error",
     "traceback": [
      "\u001b[0;31m---------------------------------------------------------------------------\u001b[0m",
      "\u001b[0;31mNoHostAvailable\u001b[0m                           Traceback (most recent call last)",
      "Cell \u001b[0;32mIn[1], line 5\u001b[0m\n\u001b[1;32m      3\u001b[0m \u001b[38;5;66;03m# Connect to Cassandra\u001b[39;00m\n\u001b[1;32m      4\u001b[0m cluster \u001b[38;5;241m=\u001b[39m Cluster([\u001b[38;5;124m\"\u001b[39m\u001b[38;5;124m127.0.0.1\u001b[39m\u001b[38;5;124m\"\u001b[39m])\n\u001b[0;32m----> 5\u001b[0m session \u001b[38;5;241m=\u001b[39m \u001b[43mcluster\u001b[49m\u001b[38;5;241;43m.\u001b[39;49m\u001b[43mconnect\u001b[49m\u001b[43m(\u001b[49m\u001b[38;5;124;43m\"\u001b[39;49m\u001b[38;5;124;43miot_data\u001b[39;49m\u001b[38;5;124;43m\"\u001b[39;49m\u001b[43m)\u001b[49m\n",
      "File \u001b[0;32m~/anaconda3/envs/dds/lib/python3.10/site-packages/cassandra/cluster.py:1765\u001b[0m, in \u001b[0;36mcassandra.cluster.Cluster.connect\u001b[0;34m()\u001b[0m\n",
      "File \u001b[0;32m~/anaconda3/envs/dds/lib/python3.10/site-packages/cassandra/cluster.py:1822\u001b[0m, in \u001b[0;36mcassandra.cluster.Cluster._new_session\u001b[0;34m()\u001b[0m\n",
      "File \u001b[0;32m~/anaconda3/envs/dds/lib/python3.10/site-packages/cassandra/cluster.py:2603\u001b[0m, in \u001b[0;36mcassandra.cluster.Session.__init__\u001b[0;34m()\u001b[0m\n",
      "\u001b[0;31mNoHostAvailable\u001b[0m: (\"Unable to connect to any servers using keyspace 'iot_data'\", ['127.0.0.1'])"
     ]
    }
   ],
   "source": [
    "from cassandra.cluster import Cluster\n",
    "\n",
    "# Connect to Cassandra\n",
    "cluster = Cluster([\"127.0.0.1\"])\n",
    "session = cluster.connect(\"iot_data\")"
   ]
  },
  {
   "cell_type": "code",
   "execution_count": 9,
   "metadata": {},
   "outputs": [],
   "source": [
    "sensor_id = \"sensor_005\"\n",
    "sensor_type = \"air_quality\"\n",
    "query = f\"\"\" SELECT * FROM iot_data.sensor_readings WHERE sensor_id='{sensor_id}' and sensor_type = '{sensor_type}' \"\"\"\n",
    "\n",
    "rows = session.execute(query)\n",
    "result = [\n",
    "    {\n",
    "        \"sensor_id\": row.sensor_id,\n",
    "        \"timestamp\": row.timestamp,\n",
    "        \"sensor_type\": row.sensor_type,\n",
    "        \"sensor_reading\": row.sensor_reading,\n",
    "        \"unit\": row.unit,\n",
    "    }\n",
    "    for row in rows\n",
    "]"
   ]
  },
  {
   "cell_type": "code",
   "execution_count": 10,
   "metadata": {},
   "outputs": [
    {
     "data": {
      "text/plain": [
       "[{'sensor_id': 'sensor_005',\n",
       "  'timestamp': datetime.datetime(2024, 11, 23, 22, 15, 21, 19000),\n",
       "  'sensor_type': 'air_quality',\n",
       "  'sensor_reading': 99.9800033569336,\n",
       "  'unit': 'AQI'},\n",
       " {'sensor_id': 'sensor_005',\n",
       "  'timestamp': datetime.datetime(2024, 11, 23, 22, 16, 21, 19000),\n",
       "  'sensor_type': 'air_quality',\n",
       "  'sensor_reading': 78.23999786376953,\n",
       "  'unit': 'AQI'},\n",
       " {'sensor_id': 'sensor_005',\n",
       "  'timestamp': datetime.datetime(2024, 11, 23, 22, 17, 21, 19000),\n",
       "  'sensor_type': 'air_quality',\n",
       "  'sensor_reading': 61.459999084472656,\n",
       "  'unit': 'AQI'},\n",
       " {'sensor_id': 'sensor_005',\n",
       "  'timestamp': datetime.datetime(2024, 11, 23, 22, 18, 21, 19000),\n",
       "  'sensor_type': 'air_quality',\n",
       "  'sensor_reading': 92.37000274658203,\n",
       "  'unit': 'AQI'},\n",
       " {'sensor_id': 'sensor_005',\n",
       "  'timestamp': datetime.datetime(2024, 11, 23, 22, 19, 21, 19000),\n",
       "  'sensor_type': 'air_quality',\n",
       "  'sensor_reading': 89.95999908447266,\n",
       "  'unit': 'AQI'},\n",
       " {'sensor_id': 'sensor_005',\n",
       "  'timestamp': datetime.datetime(2024, 11, 23, 22, 20, 21, 19000),\n",
       "  'sensor_type': 'air_quality',\n",
       "  'sensor_reading': 105.81999969482422,\n",
       "  'unit': 'AQI'},\n",
       " {'sensor_id': 'sensor_005',\n",
       "  'timestamp': datetime.datetime(2024, 11, 23, 22, 21, 21, 19000),\n",
       "  'sensor_type': 'air_quality',\n",
       "  'sensor_reading': 164.25999450683594,\n",
       "  'unit': 'AQI'},\n",
       " {'sensor_id': 'sensor_005',\n",
       "  'timestamp': datetime.datetime(2024, 11, 23, 22, 22, 21, 19000),\n",
       "  'sensor_type': 'air_quality',\n",
       "  'sensor_reading': 95.83000183105469,\n",
       "  'unit': 'AQI'},\n",
       " {'sensor_id': 'sensor_005',\n",
       "  'timestamp': datetime.datetime(2024, 11, 23, 22, 23, 21, 19000),\n",
       "  'sensor_type': 'air_quality',\n",
       "  'sensor_reading': 158.9600067138672,\n",
       "  'unit': 'AQI'},\n",
       " {'sensor_id': 'sensor_005',\n",
       "  'timestamp': datetime.datetime(2024, 11, 23, 22, 24, 21, 19000),\n",
       "  'sensor_type': 'air_quality',\n",
       "  'sensor_reading': 157.85000610351562,\n",
       "  'unit': 'AQI'},\n",
       " {'sensor_id': 'sensor_005',\n",
       "  'timestamp': datetime.datetime(2024, 11, 23, 22, 25, 21, 19000),\n",
       "  'sensor_type': 'air_quality',\n",
       "  'sensor_reading': 187.39999389648438,\n",
       "  'unit': 'AQI'},\n",
       " {'sensor_id': 'sensor_005',\n",
       "  'timestamp': datetime.datetime(2024, 11, 23, 22, 26, 21, 19000),\n",
       "  'sensor_type': 'air_quality',\n",
       "  'sensor_reading': 124.7300033569336,\n",
       "  'unit': 'AQI'},\n",
       " {'sensor_id': 'sensor_005',\n",
       "  'timestamp': datetime.datetime(2024, 11, 23, 22, 27, 21, 19000),\n",
       "  'sensor_type': 'air_quality',\n",
       "  'sensor_reading': 94.37000274658203,\n",
       "  'unit': 'AQI'},\n",
       " {'sensor_id': 'sensor_005',\n",
       "  'timestamp': datetime.datetime(2024, 11, 23, 22, 28, 21, 19000),\n",
       "  'sensor_type': 'air_quality',\n",
       "  'sensor_reading': 138.32000732421875,\n",
       "  'unit': 'AQI'}]"
      ]
     },
     "execution_count": 10,
     "metadata": {},
     "output_type": "execute_result"
    }
   ],
   "source": [
    "result"
   ]
  }
 ],
 "metadata": {
  "kernelspec": {
   "display_name": "dds",
   "language": "python",
   "name": "python3"
  },
  "language_info": {
   "codemirror_mode": {
    "name": "ipython",
    "version": 3
   },
   "file_extension": ".py",
   "mimetype": "text/x-python",
   "name": "python",
   "nbconvert_exporter": "python",
   "pygments_lexer": "ipython3",
   "version": "3.10.15"
  }
 },
 "nbformat": 4,
 "nbformat_minor": 2
}
