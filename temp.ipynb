{
 "cells": [
  {
   "cell_type": "code",
   "execution_count": 1,
   "metadata": {},
   "outputs": [],
   "source": [
    "from cassandra_kafka_setup import create_kafka_topic"
   ]
  },
  {
   "cell_type": "code",
   "execution_count": 2,
   "metadata": {},
   "outputs": [
    {
     "name": "stdout",
     "output_type": "stream",
     "text": [
      "Kafka topic 'apple-watch-iot' created successfully!\n"
     ]
    }
   ],
   "source": [
    "# Kafka bootstrap server (replace 'localhost:9092' with your Kafka server)\n",
    "BOOTSTRAP_SERVERS = \"localhost:9092\"\n",
    "TOPIC_NAME = \"apple-watch-iot\"\n",
    "NUM_PARTITIONS = 3\n",
    "REPLICATION_FACTOR = 1\n",
    "\n",
    "# Create Kafka topic\n",
    "create_kafka_topic(BOOTSTRAP_SERVERS, TOPIC_NAME, NUM_PARTITIONS, REPLICATION_FACTOR)"
   ]
  }
 ],
 "metadata": {
  "kernelspec": {
   "display_name": "dds",
   "language": "python",
   "name": "python3"
  },
  "language_info": {
   "codemirror_mode": {
    "name": "ipython",
    "version": 3
   },
   "file_extension": ".py",
   "mimetype": "text/x-python",
   "name": "python",
   "nbconvert_exporter": "python",
   "pygments_lexer": "ipython3",
   "version": "3.10.15"
  }
 },
 "nbformat": 4,
 "nbformat_minor": 2
}
